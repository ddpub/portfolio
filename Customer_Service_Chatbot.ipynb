{
 "cells": [
  {
   "cell_type": "markdown",
   "id": "ed95102f-335e-4cd4-9347-1d3d14567a12",
   "metadata": {},
   "source": [
    "This is a chatbot built using logistic regression to handle queries, with the added twist of a training function where a superuser can add answers to unknown queries.\n",
    "\n",
    "The chatbot is intend for use as a customer services bot to handle queries about teaching resources."
   ]
  },
  {
   "cell_type": "code",
   "execution_count": 7,
   "id": "9c81e8d4-f8b9-4c15-a66d-654cca42b47a",
   "metadata": {},
   "outputs": [],
   "source": [
    "# modules for file handling\n",
    "import pandas as pd\n",
    "import numpy as np\n",
    "import json\n",
    "\n",
    "# modules for training the questions and responses\n",
    "from sklearn.feature_extraction.text import TfidfVectorizer\n",
    "from sklearn.model_selection import train_test_split\n",
    "from sklearn.linear_model import LogisticRegression\n",
    "from sklearn.ensemble import RandomForestClassifier\n",
    "from sklearn.model_selection import GridSearchCV\n",
    "from sklearn.metrics import classification_report\n",
    "\n",
    "# modules for running the chatbot\n",
    "import nltk\n",
    "from nltk.chat.util import Chat, reflections\n",
    "from nltk.stem import WordNetLemmatizer\n",
    "\n",
    "# datetime for timestamps\n",
    "import datetime\n",
    "\n",
    "# handling annoying warnings\n",
    "import warnings\n",
    "warnings.filterwarnings('ignore') "
   ]
  },
  {
   "cell_type": "markdown",
   "id": "d3c991cd-e1b3-4c2d-affe-cad66fed3747",
   "metadata": {},
   "source": [
    "<h1>Training the model</h1>"
   ]
  },
  {
   "cell_type": "code",
   "execution_count": 8,
   "id": "ddb70b77-0941-4bbe-a23f-bc69b74ce6ff",
   "metadata": {},
   "outputs": [
    {
     "data": {
      "text/html": [
       "<div>\n",
       "<style scoped>\n",
       "    .dataframe tbody tr th:only-of-type {\n",
       "        vertical-align: middle;\n",
       "    }\n",
       "\n",
       "    .dataframe tbody tr th {\n",
       "        vertical-align: top;\n",
       "    }\n",
       "\n",
       "    .dataframe thead th {\n",
       "        text-align: right;\n",
       "    }\n",
       "</style>\n",
       "<table border=\"1\" class=\"dataframe\">\n",
       "  <thead>\n",
       "    <tr style=\"text-align: right;\">\n",
       "      <th></th>\n",
       "      <th>question</th>\n",
       "      <th>intent</th>\n",
       "    </tr>\n",
       "  </thead>\n",
       "  <tbody>\n",
       "    <tr>\n",
       "      <th>0</th>\n",
       "      <td>Hello!</td>\n",
       "      <td>greet_hello</td>\n",
       "    </tr>\n",
       "    <tr>\n",
       "      <th>1</th>\n",
       "      <td>Hi there!</td>\n",
       "      <td>greet_hello</td>\n",
       "    </tr>\n",
       "    <tr>\n",
       "      <th>2</th>\n",
       "      <td>Hey!</td>\n",
       "      <td>greet_hello</td>\n",
       "    </tr>\n",
       "    <tr>\n",
       "      <th>3</th>\n",
       "      <td>Good morning!</td>\n",
       "      <td>greet_hello</td>\n",
       "    </tr>\n",
       "    <tr>\n",
       "      <th>4</th>\n",
       "      <td>Good afternoon!</td>\n",
       "      <td>greet_hello</td>\n",
       "    </tr>\n",
       "  </tbody>\n",
       "</table>\n",
       "</div>"
      ],
      "text/plain": [
       "          question       intent\n",
       "0           Hello!  greet_hello\n",
       "1        Hi there!  greet_hello\n",
       "2             Hey!  greet_hello\n",
       "3    Good morning!  greet_hello\n",
       "4  Good afternoon!  greet_hello"
      ]
     },
     "execution_count": 8,
     "metadata": {},
     "output_type": "execute_result"
    }
   ],
   "source": [
    "# Load the dataset\n",
    "data = pd.read_csv('questions.csv')\n",
    "data.head()"
   ]
  },
  {
   "cell_type": "markdown",
   "id": "07ef249c-e3ba-44c9-a082-d37454ce7319",
   "metadata": {},
   "source": [
    "This dataset links likely questions to intents; the intents map to response options that are drawn from a JSON file."
   ]
  },
  {
   "cell_type": "code",
   "execution_count": 9,
   "id": "03173f66-60b2-4172-acb5-f8889a52a7e5",
   "metadata": {},
   "outputs": [
    {
     "name": "stdout",
     "output_type": "stream",
     "text": [
      "                                        precision    recall  f1-score   support\n",
      "\n",
      "                 accessibility_options       0.00      0.00      0.00         1\n",
      "additional_resources_solutions_manuals       0.00      0.00      0.00         0\n",
      "       customize_difficulty_test_banks       0.00      0.00      0.00         1\n",
      "                       customize_style       1.00      0.67      0.80         3\n",
      "          difficulty_levels_test_banks       0.00      0.00      0.00         0\n",
      "      errors_updates_solutions_manuals       1.00      1.00      1.00         2\n",
      "            explanations_in_test_banks       0.50      1.00      0.67         1\n",
      "                 format_lecture_slides       0.33      0.50      0.40         2\n",
      "              format_solutions_manuals       1.00      0.67      0.80         3\n",
      "                     format_test_banks       0.00      0.00      0.00         1\n",
      "                           greet_hello       1.00      1.00      1.00         1\n",
      "                  incorporate_feedback       1.00      1.00      1.00         2\n",
      "                      instructor_notes       1.00      1.00      1.00         1\n",
      "        learning_objectives_test_banks       0.00      0.00      0.00         1\n",
      "                      length_of_slides       0.67      1.00      0.80         2\n",
      "                            pineapples       1.00      1.00      1.00         2\n",
      "                step_by_step_solutions       1.00      1.00      1.00         2\n",
      "          type_of_questions_test_banks       0.33      1.00      0.50         1\n",
      "                       unique_features       0.50      1.00      0.67         1\n",
      "           update_frequency_test_banks       0.00      0.00      0.00         1\n",
      "                           visual_aids       1.00      0.67      0.80         3\n",
      "\n",
      "                              accuracy                           0.71        31\n",
      "                             macro avg       0.54      0.60      0.54        31\n",
      "                          weighted avg       0.72      0.71      0.69        31\n",
      "\n"
     ]
    }
   ],
   "source": [
    "# Split the data into training and test sets\n",
    "X_train, X_test, y_train, y_test = train_test_split(data['question'], data['intent'], test_size=0.3, random_state=100)\n",
    "\n",
    "# Vectorize the text data\n",
    "vectorizer = TfidfVectorizer()\n",
    "X_train_vectorized = vectorizer.fit_transform(X_train)\n",
    "X_test_vectorized = vectorizer.transform(X_test)\n",
    "\n",
    "# Train the model\n",
    "model = RandomForestClassifier(n_estimators=100, random_state=42)\n",
    "model.fit(X_train_vectorized, y_train)\n",
    "\n",
    "# Evaluate the model\n",
    "y_pred = model.predict(X_test_vectorized)\n",
    "print(classification_report(y_test, y_pred))"
   ]
  },
  {
   "cell_type": "code",
   "execution_count": 13,
   "id": "9589dcfb-f86f-43ed-af07-f17e96969355",
   "metadata": {},
   "outputs": [
    {
     "name": "stdout",
     "output_type": "stream",
     "text": [
      "How many slides does a chapter have?\n",
      "Predicted Intent: length_of_slides\n",
      "['The typical length of lecture slides per chapter is about ____ slides.', \"Each chapter's lecture slides usually contain around ____ slides.\"]\n",
      "\n",
      "\n",
      "Can you tell me the format of the test banks?\n",
      "Chatbot: Yes, we include explanations for ____ of the questions.\n"
     ]
    }
   ],
   "source": [
    "def predict_intent(user_input):\n",
    "    user_input_vectorized = vectorizer.transform([user_input])\n",
    "    intent = model.predict(user_input_vectorized)\n",
    "    return intent[0]\n",
    "\n",
    "# Example usage\n",
    "user_input = \"How many slides does a chapter have?\"\n",
    "predicted_intent = predict_intent(user_input)\n",
    "print(user_input)\n",
    "print(f\"Predicted Intent: {predicted_intent}\")\n",
    "\n",
    "# Load responses from JSON file\n",
    "with open('responses.json', 'r') as file:\n",
    "    responses = json.load(file)\n",
    "\n",
    "def get_response(intent):\n",
    "    for item in responses:\n",
    "        if item['intent'] == intent:\n",
    "            return item['responses']\n",
    "    return [\"I'm sorry, I don't understand your question.\"]\n",
    "\n",
    "# Example usage\n",
    "response = get_response(predicted_intent)\n",
    "print(response)\n",
    "\n",
    "print('\\n')\n",
    "\n",
    "def chatbot_response(user_input):\n",
    "    intent = predict_intent(user_input)\n",
    "    responses = get_response(intent)\n",
    "    return responses[0]\n",
    "\n",
    "# Example conversation\n",
    "user_input = \"Can you tell me the format of the test banks?\"\n",
    "response = chatbot_response(user_input)\n",
    "print(user_input)\n",
    "print(f\"Chatbot: {response}\")"
   ]
  },
  {
   "cell_type": "markdown",
   "id": "5997cf6b-617e-43ff-8516-bfce073ca987",
   "metadata": {},
   "source": [
    "The above code tests the model using the responses in the JSON file."
   ]
  },
  {
   "cell_type": "markdown",
   "id": "c7a922df-e929-4169-9ad2-ba08f27f35d7",
   "metadata": {},
   "source": [
    "<h1>Chatbot model</h1>"
   ]
  },
  {
   "cell_type": "code",
   "execution_count": 16,
   "id": "88ae3ecc-3b76-4fd1-b99e-04e983c818e9",
   "metadata": {},
   "outputs": [],
   "source": [
    "def run_chatbot():\n",
    "    # Load the dataset\n",
    "    data = pd.read_csv('questions.csv')\n",
    "\n",
    "    # Load responses from JSON file\n",
    "    with open('responses.json', 'r') as file:\n",
    "        responses = json.load(file)\n",
    "\n",
    "    # Preprocess and train the model\n",
    "    lemmatizer = WordNetLemmatizer()\n",
    "\n",
    "    # Vectorize the text data\n",
    "    vectorizer = TfidfVectorizer()\n",
    "    X_vectorized = vectorizer.fit_transform(data['question'])\n",
    "    model = RandomForestClassifier(n_estimators=150, random_state=42)\n",
    "    model.fit(X_vectorized, data['intent'])\n",
    "    print('Model initialised')\n",
    "\n",
    "    # Function to predict the intent with a probability threshold\n",
    "    def predict_intent(user_input, threshold=0.5):\n",
    "        user_input_vectorized = vectorizer.transform([user_input])\n",
    "        probabilities = model.predict_proba(user_input_vectorized)\n",
    "        max_prob = np.max(probabilities)\n",
    "        print(max_prob)\n",
    "        if max_prob >= threshold:\n",
    "            intent = model.predict(user_input_vectorized)\n",
    "            return intent[0]\n",
    "        else:\n",
    "            return None\n",
    "\n",
    "    # Function to get response based on intent\n",
    "    def get_response(intent):\n",
    "        for item in responses:\n",
    "            if item['intent'] == intent:\n",
    "                return item['responses']\n",
    "        return [\"I'm sorry, I don't understand your question.\"]\n",
    "\n",
    "    # Training mode functions\n",
    "    def save_data_q(new_data, data_file):\n",
    "        new_data.to_csv(data_file, mode='a', index=False, header=False)\n",
    "\n",
    "    # Function to save data to JSON file\n",
    "    def save_data_r(data, filename):\n",
    "        with open(filename, 'r') as file:\n",
    "            existing_data = json.load(file)\n",
    "\n",
    "        for index, row in data.iterrows():\n",
    "            intent = row['intent']\n",
    "            response = row['response']\n",
    "            found = False\n",
    "            for entry in existing_data:\n",
    "                if entry['intent'] == intent:\n",
    "                    entry['responses'].append(response)\n",
    "                    found = True\n",
    "                    break\n",
    "            if not found:\n",
    "                # Add a new dictionary to the list if the intent was not found\n",
    "                existing_data.append({'intent': intent, 'responses': [response]})\n",
    "\n",
    "        with open(filename, 'w') as file:\n",
    "            json.dump(existing_data, file, indent=4)\n",
    "\n",
    "    # Chatbot function\n",
    "    def chatbot_response(user_input, training_mode):\n",
    "        intent = predict_intent(user_input)\n",
    "        if intent is None:\n",
    "            if not training_mode:\n",
    "                return \"I don't know the answer to that. Can you provide more details or ask another question?\"\n",
    "            if training_mode:\n",
    "                print(\"I don't know the answer to that. Please provide the correct response.\")\n",
    "                question = user_input\n",
    "                response = input(\"Correct response: \")\n",
    "                old_data = pd.read_csv('questions.csv')\n",
    "                intent_options = set(old_data['intent'])\n",
    "                print(f\"Current intent options are: {intent_options}\")\n",
    "                intent = input(\"Choose an intent option, or enter a new intent: \")\n",
    "                new_data = pd.DataFrame({'question': [question],'intent': [intent],'response': [response]})\n",
    "                save_data_q(new_data[['question', 'intent']], 'questions.csv')\n",
    "                save_data_r(new_data, 'responses.json')\n",
    "                return \"Thanks! I'll remember that for next time.\"\n",
    "        responses = get_response(intent)\n",
    "        return responses[0]\n",
    "\n",
    "    def save_chat_log(conversation):\n",
    "        timestamp = datetime.datetime.now().strftime(\"%Y-%m-%d_%H-%M-%S\")\n",
    "        filename = f\"chat_log_{timestamp}.txt\"\n",
    "        with open(filename, 'w') as file:\n",
    "            for entry in conversation:\n",
    "                file.write(f\"{entry['user']}: {entry['message']}\\n\")\n",
    "                file.write(f\"{entry['bot']}: {entry['response']}\\n\")\n",
    "        print(f\"Chat log saved as {filename}\")\n",
    "\n",
    "    # Establish training mode\n",
    "    training_mode = False\n",
    "\n",
    "    # Chat with the bot\n",
    "    print(\"Chatbot is ready to talk! Type 'quit' to stop.\")\n",
    "    conversation = []\n",
    "\n",
    "    while True:\n",
    "        user_input = input(\"You: \")\n",
    "        if user_input.lower() == \"quit\":\n",
    "            break\n",
    "        if user_input.lower() == \"enter training mode\":\n",
    "            training_mode = True\n",
    "            print(\"Training mode entered. Quit and restart to update model.\")\n",
    "            continue\n",
    "        response = chatbot_response(user_input, training_mode)\n",
    "        print(f\"Chatbot: {response}\")\n",
    "\n",
    "        # Store the conversation\n",
    "        conversation.append({\n",
    "                'user': 'You',\n",
    "                'message': user_input,\n",
    "                'bot': 'Chatbot',\n",
    "                'response': response\n",
    "            })\n",
    "\n",
    "    # Save the chat log at the end of the conversation\n",
    "    save_chat_log(conversation)\n",
    "    return"
   ]
  },
  {
   "cell_type": "code",
   "execution_count": 17,
   "id": "a913c7f0-e086-4d3a-b97f-4b743d4ed645",
   "metadata": {},
   "outputs": [
    {
     "name": "stdout",
     "output_type": "stream",
     "text": [
      "Model initialised\n",
      "Chatbot is ready to talk! Type 'quit' to stop.\n"
     ]
    },
    {
     "name": "stdin",
     "output_type": "stream",
     "text": [
      "You:  I need help with writing lecture slides\n"
     ]
    },
    {
     "name": "stdout",
     "output_type": "stream",
     "text": [
      "0.36\n",
      "Chatbot: I don't know the answer to that. Can you provide more details or ask another question?\n"
     ]
    },
    {
     "name": "stdin",
     "output_type": "stream",
     "text": [
      "You:  enter training mode\n"
     ]
    },
    {
     "name": "stdout",
     "output_type": "stream",
     "text": [
      "Training mode entered. Quit and restart to update model.\n"
     ]
    },
    {
     "name": "stdin",
     "output_type": "stream",
     "text": [
      "You:  I need some help with writing lecture slides\n"
     ]
    },
    {
     "name": "stdout",
     "output_type": "stream",
     "text": [
      "0.58\n",
      "Chatbot: I would love to help you write some lecture slides! Can you tell me exactly what you want to know?\n"
     ]
    },
    {
     "name": "stdin",
     "output_type": "stream",
     "text": [
      "You:  How many lecture slides do I need?\n"
     ]
    },
    {
     "name": "stdout",
     "output_type": "stream",
     "text": [
      "0.42\n",
      "I don't know the answer to that. Please provide the correct response.\n"
     ]
    },
    {
     "name": "stdin",
     "output_type": "stream",
     "text": [
      "Correct response:  For each chapter, you need ___ slides.\n"
     ]
    },
    {
     "name": "stdout",
     "output_type": "stream",
     "text": [
      "Current intent options are: {'coverage_of_topics_test_banks', 'update_frequency_test_banks', 'difficulty_levels_test_banks', 'incorporate_feedback', 'customize_difficulty_test_banks', 'errors_updates_solutions_manuals', 'help_info', 'accessibility_options', 'unique_features', 'learning_objectives_test_banks', 'customize_style', 'length_of_slides', 'format_test_banks', 'greet_hello', 'format_solutions_manuals', 'type_of_questions_test_banks', 'greet_how_are_you', 'pineapples', 'step_by_step_solutions', 'explanations_in_test_banks', 'instructor_notes', 'additional_resources_solutions_manuals', 'slides_help_general', 'visual_aids', 'format_lecture_slides'}\n"
     ]
    },
    {
     "name": "stdin",
     "output_type": "stream",
     "text": [
      "Choose an intent option, or enter a new intent:  length_of_slides\n"
     ]
    },
    {
     "name": "stdout",
     "output_type": "stream",
     "text": [
      "Chatbot: Thanks! I'll remember that for next time.\n"
     ]
    },
    {
     "name": "stdin",
     "output_type": "stream",
     "text": [
      "You:  I want to know how many slides I need per chapter\n"
     ]
    },
    {
     "name": "stdout",
     "output_type": "stream",
     "text": [
      "0.7733333333333333\n",
      "Chatbot: The typical length of lecture slides per chapter is about ____ slides.\n"
     ]
    },
    {
     "name": "stdin",
     "output_type": "stream",
     "text": [
      "You:  quit\n"
     ]
    },
    {
     "name": "stdout",
     "output_type": "stream",
     "text": [
      "Chat log saved as chat_log_2024-08-08_13-10-15.txt\n"
     ]
    }
   ],
   "source": [
    "run_chatbot()"
   ]
  },
  {
   "cell_type": "markdown",
   "id": "de127bbc-168e-4d70-a643-5ee909bac34f",
   "metadata": {},
   "source": [
    "The above shows how the chatbot handles questions. The propensity score is presented for transparency. If the chatbot doesn't know an obvious question, the user can enter training mode and teach the bot the correct answer. When the chatbot is reloaded, it will be retrained on the new data.\n",
    "\n",
    "When the bot is quit, the chatlog is saved for review as a text file."
   ]
  },
  {
   "cell_type": "code",
   "execution_count": 18,
   "id": "b7fa8751-c1a7-40ee-a249-e2a32e3ff0d5",
   "metadata": {},
   "outputs": [
    {
     "name": "stdout",
     "output_type": "stream",
     "text": [
      "Model initialised\n",
      "Chatbot is ready to talk! Type 'quit' to stop.\n"
     ]
    },
    {
     "name": "stdin",
     "output_type": "stream",
     "text": [
      "You:  I need help with writing lecture slides\n"
     ]
    },
    {
     "name": "stdout",
     "output_type": "stream",
     "text": [
      "0.36\n",
      "Chatbot: I don't know the answer to that. Can you provide more details or ask another question?\n"
     ]
    },
    {
     "name": "stdin",
     "output_type": "stream",
     "text": [
      "You:  I need some help with writing lecture slides\n"
     ]
    },
    {
     "name": "stdout",
     "output_type": "stream",
     "text": [
      "0.58\n",
      "Chatbot: I would love to help you write some lecture slides! Can you tell me exactly what you want to know?\n"
     ]
    },
    {
     "name": "stdin",
     "output_type": "stream",
     "text": [
      "You:  How many slides do I need?\n"
     ]
    },
    {
     "name": "stdout",
     "output_type": "stream",
     "text": [
      "0.7133333333333334\n",
      "Chatbot: The typical length of lecture slides per chapter is about ____ slides.\n"
     ]
    },
    {
     "name": "stdin",
     "output_type": "stream",
     "text": [
      "You:  How many lecture slides do I need?\n"
     ]
    },
    {
     "name": "stdout",
     "output_type": "stream",
     "text": [
      "0.84\n",
      "Chatbot: The typical length of lecture slides per chapter is about ____ slides.\n"
     ]
    },
    {
     "name": "stdin",
     "output_type": "stream",
     "text": [
      "You:  quit\n"
     ]
    },
    {
     "name": "stdout",
     "output_type": "stream",
     "text": [
      "Chat log saved as chat_log_2024-08-08_13-11-14.txt\n"
     ]
    }
   ],
   "source": [
    "run_chatbot()"
   ]
  },
  {
   "cell_type": "markdown",
   "id": "189c5239-3bd1-4181-8317-b36fa3f21e51",
   "metadata": {},
   "source": [
    "It obviously needs a lot more training data to start with. I find using one of the generative AI models to generate variations of questions to be useful. But the training function is a cool way to make improvements on the fly, though sometimes you need to repeat yourself so it gets enough exposure to make a confident prediction."
   ]
  }
 ],
 "metadata": {
  "kernelspec": {
   "display_name": "Python 3 (ipykernel)",
   "language": "python",
   "name": "python3"
  },
  "language_info": {
   "codemirror_mode": {
    "name": "ipython",
    "version": 3
   },
   "file_extension": ".py",
   "mimetype": "text/x-python",
   "name": "python",
   "nbconvert_exporter": "python",
   "pygments_lexer": "ipython3",
   "version": "3.9.12"
  }
 },
 "nbformat": 4,
 "nbformat_minor": 5
}
